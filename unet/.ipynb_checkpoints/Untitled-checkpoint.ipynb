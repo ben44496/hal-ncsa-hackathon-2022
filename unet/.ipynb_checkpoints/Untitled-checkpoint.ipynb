{
 "cells": [
  {
   "cell_type": "code",
   "execution_count": 1,
   "id": "f0fc7c66-c2eb-405f-882b-3b9ca1836365",
   "metadata": {},
   "outputs": [
    {
     "name": "stderr",
     "output_type": "stream",
     "text": [
      "/home/bnguyen4/.conda/envs/myenv/lib/python3.9/site-packages/tqdm/auto.py:22: TqdmWarning: IProgress not found. Please update jupyter and ipywidgets. See https://ipywidgets.readthedocs.io/en/stable/user_install.html\n",
      "  from .autonotebook import tqdm as notebook_tqdm\n"
     ]
    }
   ],
   "source": [
    "import torch\n",
    "import torch.nn as nn\n",
    "import torchvision\n",
    "from netCDF4 import Dataset\n",
    "import numpy as np\n",
    "# from torchsummary import summary"
   ]
  },
  {
   "cell_type": "code",
   "execution_count": 2,
   "id": "6c42a4f6-143b-416e-89aa-5163cf070332",
   "metadata": {},
   "outputs": [
    {
     "name": "stdout",
     "output_type": "stream",
     "text": [
      "Fri Apr 22 01:25:11 2022       \n",
      "+-----------------------------------------------------------------------------+\n",
      "| NVIDIA-SMI 510.47.03    Driver Version: 510.47.03    CUDA Version: 11.6     |\n",
      "|-------------------------------+----------------------+----------------------+\n",
      "| GPU  Name        Persistence-M| Bus-Id        Disp.A | Volatile Uncorr. ECC |\n",
      "| Fan  Temp  Perf  Pwr:Usage/Cap|         Memory-Usage | GPU-Util  Compute M. |\n",
      "|                               |                      |               MIG M. |\n",
      "|===============================+======================+======================|\n",
      "|   0  Tesla V100-SXM2...  On   | 00000004:05:00.0 Off |                    0 |\n",
      "| N/A   39C    P0    37W / 300W |   2048MiB / 16384MiB |      0%      Default |\n",
      "|                               |                      |                  N/A |\n",
      "+-------------------------------+----------------------+----------------------+\n",
      "|   1  Tesla V100-SXM2...  On   | 00000035:03:00.0 Off |                    0 |\n",
      "| N/A   33C    P0    35W / 300W |   3072MiB / 16384MiB |      0%      Default |\n",
      "|                               |                      |                  N/A |\n",
      "+-------------------------------+----------------------+----------------------+\n",
      "                                                                               \n",
      "+-----------------------------------------------------------------------------+\n",
      "| Processes:                                                                  |\n",
      "|  GPU   GI   CI        PID   Type   Process name                  GPU Memory |\n",
      "|        ID   ID                                                   Usage      |\n",
      "|=============================================================================|\n",
      "|  No running processes found                                                 |\n",
      "+-----------------------------------------------------------------------------+\n"
     ]
    }
   ],
   "source": [
    "!nvidia-smi"
   ]
  },
  {
   "cell_type": "code",
   "execution_count": 12,
   "id": "6773a7e4-0c51-4012-a862-c369b79ed864",
   "metadata": {},
   "outputs": [
    {
     "name": "stdout",
     "output_type": "stream",
     "text": [
      "cuda:0\n"
     ]
    }
   ],
   "source": [
    "device = torch.device(\"cuda:0\" if torch.cuda.is_available() else \"cpu\")\n",
    "print(device)"
   ]
  },
  {
   "cell_type": "code",
   "execution_count": 3,
   "id": "d55dd4dc-1539-4285-aa6d-4045db307e0c",
   "metadata": {},
   "outputs": [
    {
     "name": "stdout",
     "output_type": "stream",
     "text": [
      "torch.Size([133, 10, 39, 157, 157])\n"
     ]
    }
   ],
   "source": [
    "data_dir = '/home/jcurtis2/hackathon_data/'\n",
    "wrf_filename = '%straining.nc' % data_dir\n",
    "ncf = Dataset(wrf_filename, \"r\", format=\"NETCDF4\")\n",
    "\n",
    "data = ncf.variables['o3']\n",
    "data = torch.from_numpy(np.array(data))\n",
    "data = torchvision.transforms.Resize((157,157))(data)\n",
    "# data = torch.unsqueeze(data,0)\n",
    "data = torch.unsqueeze(data,1)\n",
    "data = data.repeat(1,10,1,1,1)\n",
    "print(data.shape) # num samples, channels, z, y, x"
   ]
  },
  {
   "cell_type": "code",
   "execution_count": 4,
   "id": "40c9f006-aef6-409d-96e2-fcca07671642",
   "metadata": {},
   "outputs": [],
   "source": [
    "# Hyperparameter settings\n",
    "NUM_EPOCHS = 1\n",
    "BATCH_SIZE = 4"
   ]
  },
  {
   "cell_type": "code",
   "execution_count": 17,
   "id": "673205c2-020e-42c6-aaac-a5417a8e1b09",
   "metadata": {},
   "outputs": [],
   "source": [
    "class DoubleConv(nn.Module):\n",
    "    \n",
    "    def __init__(self, in_channels, out_channels, mid_channels=None, first_kernel=3, second_kernel=3):\n",
    "        super().__init__()\n",
    "        \n",
    "        if mid_channels is None:\n",
    "            mid_channels = out_channels\n",
    "        \n",
    "        self.first_down = nn.Sequential(\n",
    "            nn.Conv3d(in_channels, mid_channels, first_kernel),\n",
    "            nn.BatchNorm3d(mid_channels),\n",
    "            nn.ReLU(),\n",
    "            nn.Conv3d(mid_channels, out_channels, second_kernel),\n",
    "            nn.BatchNorm3d(out_channels),\n",
    "            nn.ReLU()\n",
    "        )\n",
    "        \n",
    "    def forward(self, x):\n",
    "        return self.first_down(x)\n",
    "    \n",
    "class Down(nn.Module):\n",
    "    \n",
    "    def __init__(self, in_channels, out_channels):\n",
    "        super().__init__()\n",
    "        self.maxpool_conv = nn.Sequential(\n",
    "            nn.MaxPool3d(2),\n",
    "            DoubleConv(in_channels, out_channels)\n",
    "        )\n",
    "        \n",
    "    def forward(self, x):\n",
    "        return self.maxpool_conv(x)"
   ]
  },
  {
   "cell_type": "code",
   "execution_count": 18,
   "id": "a36cf64d-0dfd-4a19-b72c-9fb4b69dd68d",
   "metadata": {},
   "outputs": [],
   "source": [
    "class UNet(nn.Module):\n",
    "    \n",
    "    def __init__(self, n_channels, n_classes, bilinear=False):\n",
    "        super().__init__()\n",
    "        self.n_channels = n_channels\n",
    "        self.n_classes = n_classes\n",
    "        self.bilinear = bilinear\n",
    "        factor = 2 if bilinear else 1\n",
    "        \n",
    "        self.inc = DoubleConv(n_channels, 64)\n",
    "        self.down1 = Down(64, 128)\n",
    "        self.down2 = Down(128, 256)\n",
    "        self.down3 = Down(256, 512)\n",
    "        \n",
    "        self.down4 = Down(512, 1024 // factor)\n",
    "        \n",
    "#         self.up1 = Up(1024, 512 // factor, bilinear\n",
    "    \n",
    "    def forward(self, x):\n",
    "        x1 = self.inc(x)\n",
    "        x2 = self.down1(x1)\n",
    "        x3 = self.down2(x2)\n",
    "        x4 = self.down3(x3)\n",
    "        x5 = self.down4(x4)\n",
    "        x = x5\n",
    "        return x\n",
    "    \n",
    "    def test_correct_size(self, x):\n",
    "        return self.forward(x).shape"
   ]
  },
  {
   "cell_type": "code",
   "execution_count": null,
   "id": "5543ab22-5ab3-4b36-8450-00d6836a8474",
   "metadata": {},
   "outputs": [],
   "source": []
  },
  {
   "cell_type": "code",
   "execution_count": 23,
   "id": "2f84097a-cb71-44b9-9e4e-4cd3b2aaa88e",
   "metadata": {},
   "outputs": [
    {
     "name": "stdout",
     "output_type": "stream",
     "text": [
      "torch.Size([4, 16, 31, 149, 149])\n",
      "torch.Size([4, 32, 11, 70, 70])\n",
      "CPU times: user 918 ms, sys: 30 ms, total: 948 ms\n",
      "Wall time: 952 ms\n"
     ]
    }
   ],
   "source": [
    "%%time\n",
    "x = torch.randn(4, 10, 39, 157, 157).cuda()\n",
    "# data = data.cuda()\n",
    "inc = DoubleConv(10,16,first_kernel=7) # first_kernel=3: torch.Size([1, 64, 35, 153, 153])\n",
    "inc.to(device)\n",
    "x1 = inc(x)\n",
    "print(x1.shape)\n",
    "down1 = Down(16, 32)\n",
    "down1.to(device)\n",
    "x2 = down1(x1)\n",
    "print(x2.shape)"
   ]
  },
  {
   "cell_type": "code",
   "execution_count": null,
   "id": "9d3e4ec3-a02c-439a-81fe-26fadc72c5e9",
   "metadata": {},
   "outputs": [],
   "source": []
  },
  {
   "cell_type": "code",
   "execution_count": null,
   "id": "b312f0ef-a540-497d-91da-9876c223e776",
   "metadata": {},
   "outputs": [],
   "source": []
  },
  {
   "cell_type": "code",
   "execution_count": null,
   "id": "c647e6ad-25b4-48df-a147-5503aaf6e025",
   "metadata": {},
   "outputs": [],
   "source": [
    "## Train\n",
    "\n",
    "\n",
    "for epoch in range(NUM_EPOCHS):\n",
    "    \n",
    "    running_loss = 0.0\n",
    "#     for i, data in enumerate(trainloader, 0):\n",
    "#         inputs, labels = data\n",
    "        \n",
    "#         optimizer.zero_grad()\n",
    "        \n",
    "#         outputs = net(inputs)\n",
    "#         loss = criterion(outputs, labels)\n",
    "#         loss.backward()\n",
    "#         optimizer.step()\n",
    "        \n",
    "#         running_loss += loss.item\n",
    "#         if i % 10 == 1:\n",
    "#             print(running_loss)\n",
    "#             running_loss = 0.0\n",
    "\n",
    "print(\"Finished Training\")"
   ]
  },
  {
   "cell_type": "code",
   "execution_count": null,
   "id": "61024d89-d69b-403a-a242-d538f2a361f1",
   "metadata": {},
   "outputs": [],
   "source": []
  }
 ],
 "metadata": {
  "kernelspec": {
   "display_name": "Python [conda env:.conda-myenv]",
   "language": "python",
   "name": "conda-env-.conda-myenv-py"
  },
  "language_info": {
   "codemirror_mode": {
    "name": "ipython",
    "version": 3
   },
   "file_extension": ".py",
   "mimetype": "text/x-python",
   "name": "python",
   "nbconvert_exporter": "python",
   "pygments_lexer": "ipython3",
   "version": "3.9.12"
  }
 },
 "nbformat": 4,
 "nbformat_minor": 5
}
