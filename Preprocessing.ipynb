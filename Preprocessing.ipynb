{
 "cells": [
  {
   "cell_type": "code",
   "execution_count": 69,
   "id": "598907b4",
   "metadata": {},
   "outputs": [
    {
     "ename": "AttributeError",
     "evalue": "'PCA' object has no attribute 'explained_variance_ratio_'",
     "output_type": "error",
     "traceback": [
      "\u001b[0;31m---------------------------------------------------------------------------\u001b[0m",
      "\u001b[0;31mAttributeError\u001b[0m                            Traceback (most recent call last)",
      "\u001b[0;32m/tmp/ipykernel_3486324/749994279.py\u001b[0m in \u001b[0;36m<cell line: 52>\u001b[0;34m()\u001b[0m\n\u001b[1;32m     50\u001b[0m \u001b[0;31m# X_test = pca.transform(X_test)\u001b[0m\u001b[0;34m\u001b[0m\u001b[0;34m\u001b[0m\u001b[0m\n\u001b[1;32m     51\u001b[0m \u001b[0;34m\u001b[0m\u001b[0m\n\u001b[0;32m---> 52\u001b[0;31m \u001b[0mexplained_variance\u001b[0m \u001b[0;34m=\u001b[0m \u001b[0mpca\u001b[0m\u001b[0;34m.\u001b[0m\u001b[0mexplained_variance_ratio_\u001b[0m\u001b[0;34m\u001b[0m\u001b[0;34m\u001b[0m\u001b[0m\n\u001b[0m\u001b[1;32m     53\u001b[0m \u001b[0;34m\u001b[0m\u001b[0m\n\u001b[1;32m     54\u001b[0m \u001b[0;34m\u001b[0m\u001b[0m\n",
      "\u001b[0;31mAttributeError\u001b[0m: 'PCA' object has no attribute 'explained_variance_ratio_'"
     ]
    }
   ],
   "source": [
    "import numpy as np\n",
    "from netCDF4 import Dataset\n",
    "import cartopy\n",
    "import matplotlib.pyplot as plt\n",
    "import matplotlib.colors as colors\n",
    "import torch\n",
    "import torchvision\n",
    "import sys\n",
    "import os\n",
    "\n",
    "from sklearn.decomposition import PCA\n",
    "\n",
    "# Load netcdf file\n",
    "data_dir = '/home/jcurtis2/hackathon_data/'\n",
    "wrf_filename = '%straining.nc' % data_dir\n",
    "ncf = Dataset(wrf_filename, \"r\", format=\"NETCDF4\")\n",
    "\n",
    "# WRF map projection\n",
    "cart_proj = cartopy.crs.LambertConformal(central_longitude=-97,central_latitude=38)\n",
    "# Data projection\n",
    "data_proj = cartopy.crs.PlateCarree()\n",
    "\n",
    "# Static data\n",
    "lats = ncf.variables['XLAT'][0,:,:]\n",
    "lons = ncf.variables['XLONG'][0,:,:]\n",
    "\n",
    "i_time = -1 # Scecify output time to plot\n",
    "i_z = 0 # Specify level to plot\n",
    "\n",
    "\n",
    "data = ncf.variables['TOT_NUM_CONC'][:]\n",
    "\n",
    "# (nt,nz,ny,nx) = data.shape\n",
    "# print(nt,nz,ny,nx)\n",
    "\n",
    "\n",
    "# x_s = 1\n",
    "# x_e = nx-1\n",
    "# y_s = 1\n",
    "# y_e = ny-1\n",
    "# z_s = 0\n",
    "# z_e = nz\n",
    "# t_s = 0\n",
    "# t_e = nt\n",
    "# print(data[t_s:t_e,z_s:z_e,y_s:y_e,x_s:x_e].shape)\n",
    "\n",
    "# data[t_s:t_e,z_s:z_e,y_s:y_e,x_s:x_e]\n",
    "\n",
    "# X_train = pca.fit_transform(X_train)\n",
    "# X_test = pca.transform(X_test)\n",
    " \n",
    "\n",
    "\n",
    "\n"
   ]
  },
  {
   "cell_type": "code",
   "execution_count": 70,
   "id": "6ec943ca",
   "metadata": {},
   "outputs": [
    {
     "name": "stdout",
     "output_type": "stream",
     "text": [
      "['TOT_NUM_CONC', 'TOT_MASS_CONC', 'pmc_SO4', 'pmc_NO3', 'pmc_Cl', 'pmc_NH4', 'pmc_ARO1', 'pmc_ARO2', 'pmc_ALK1', 'pmc_OLE1', 'pmc_API1', 'pmc_API2', 'pmc_LIM1', 'pmc_LIM2', 'pmc_OC', 'pmc_BC', 'pmc_H2O', 'h2so4', 'hno3', 'hcl', 'nh3', 'no', 'no2', 'no3', 'n2o5', 'hono', 'hno4', 'o3', 'o1d', 'O3P', 'oh', 'ho2', 'h2o2', 'co', 'so2', 'ch4', 'c2h6', 'ch3o2', 'ethp', 'hcho', 'ch3oh', 'ANOL', 'ch3ooh', 'ETHOOH', 'ald2', 'hcooh', 'RCOOH', 'c2o3', 'pan', 'aro1', 'aro2', 'alk1', 'ole1', 'api1', 'api2', 'lim1', 'lim2', 'par', 'AONE', 'mgly', 'eth', 'OLET', 'OLEI', 'tol', 'xyl', 'cres', 'to2', 'cro', 'open', 'onit', 'rooh', 'ro2', 'ano2', 'nap', 'xo2', 'xpar', 'isop', 'isoprd', 'isopp', 'isopn', 'isopo2', 'api', 'lim', 'dms', 'msa', 'dmso', 'dmso2', 'ch3so2h', 'ch3sch2oo', 'ch3so2', 'ch3so3', 'ch3so2oo', 'ch3so2ch2oo', 'SULFHOX']\n"
     ]
    }
   ],
   "source": [
    "# import sys\n",
    "# import os\n",
    "# import torch\n",
    "\n",
    "aero = open('/home/mingzex2/hak_data/x_aerosols.txt', 'r')\n",
    "gas = open('/home/mingzex2/hak_data/x_gases.txt', 'r')\n",
    "aero_e = aero.readlines()\n",
    "gas_e = gas.readlines()\n",
    "\n",
    "elem = []\n",
    "\n",
    "for i in aero_e:\n",
    "    elem.append(i.strip())\n",
    "    \n",
    "for i in gas_e:\n",
    "    elem.append(i.strip())\n",
    "\n",
    "print(elem)\n",
    "\n",
    "\n",
    "\n"
   ]
  },
  {
   "cell_type": "code",
   "execution_count": 71,
   "id": "a4f394d7",
   "metadata": {},
   "outputs": [
    {
     "name": "stdout",
     "output_type": "stream",
     "text": [
      "TOT_NUM_CONC (133, 39, 159, 169)\n",
      "TOT_MASS_CONC (133, 39, 159, 169)\n",
      "pmc_SO4 (133, 39, 159, 169)\n",
      "pmc_NO3 (133, 39, 159, 169)\n",
      "pmc_Cl (133, 39, 159, 169)\n",
      "pmc_NH4 (133, 39, 159, 169)\n",
      "pmc_ARO1 (133, 39, 159, 169)\n",
      "pmc_ARO2 (133, 39, 159, 169)\n",
      "pmc_ALK1 (133, 39, 159, 169)\n",
      "pmc_OLE1 (133, 39, 159, 169)\n",
      "pmc_API1 (133, 39, 159, 169)\n",
      "pmc_API2 (133, 39, 159, 169)\n",
      "pmc_LIM1 (133, 39, 159, 169)\n",
      "pmc_LIM2 (133, 39, 159, 169)\n",
      "pmc_OC (133, 39, 159, 169)\n",
      "pmc_BC (133, 39, 159, 169)\n",
      "pmc_H2O (133, 39, 159, 169)\n",
      "h2so4 (133, 39, 159, 169)\n",
      "hno3 (133, 39, 159, 169)\n",
      "hcl (133, 39, 159, 169)\n",
      "nh3 (133, 39, 159, 169)\n",
      "no (133, 39, 159, 169)\n",
      "no2 (133, 39, 159, 169)\n",
      "no3 (133, 39, 159, 169)\n",
      "n2o5 (133, 39, 159, 169)\n",
      "hono (133, 39, 159, 169)\n",
      "hno4 (133, 39, 159, 169)\n",
      "o3 (133, 39, 159, 169)\n",
      "o1d (133, 39, 159, 169)\n",
      "O3P (133, 39, 159, 169)\n",
      "oh (133, 39, 159, 169)\n",
      "ho2 (133, 39, 159, 169)\n",
      "h2o2 (133, 39, 159, 169)\n",
      "co (133, 39, 159, 169)\n",
      "so2 (133, 39, 159, 169)\n",
      "ch4 (133, 39, 159, 169)\n",
      "c2h6 (133, 39, 159, 169)\n",
      "ch3o2 (133, 39, 159, 169)\n",
      "ethp (133, 39, 159, 169)\n",
      "hcho (133, 39, 159, 169)\n",
      "ch3oh (133, 39, 159, 169)\n",
      "ANOL (133, 39, 159, 169)\n",
      "ch3ooh (133, 39, 159, 169)\n",
      "ETHOOH (133, 39, 159, 169)\n",
      "ald2 (133, 39, 159, 169)\n",
      "hcooh (133, 39, 159, 169)\n",
      "RCOOH (133, 39, 159, 169)\n",
      "c2o3 (133, 39, 159, 169)\n",
      "pan (133, 39, 159, 169)\n",
      "aro1 (133, 39, 159, 169)\n",
      "aro2 (133, 39, 159, 169)\n",
      "alk1 (133, 39, 159, 169)\n",
      "ole1 (133, 39, 159, 169)\n",
      "api1 (133, 39, 159, 169)\n",
      "api2 (133, 39, 159, 169)\n",
      "lim1 (133, 39, 159, 169)\n",
      "lim2 (133, 39, 159, 169)\n",
      "par (133, 39, 159, 169)\n",
      "AONE (133, 39, 159, 169)\n",
      "mgly (133, 39, 159, 169)\n",
      "eth (133, 39, 159, 169)\n",
      "OLET (133, 39, 159, 169)\n",
      "OLEI (133, 39, 159, 169)\n",
      "tol (133, 39, 159, 169)\n",
      "xyl (133, 39, 159, 169)\n",
      "cres (133, 39, 159, 169)\n",
      "to2 (133, 39, 159, 169)\n",
      "cro (133, 39, 159, 169)\n",
      "open (133, 39, 159, 169)\n",
      "onit (133, 39, 159, 169)\n",
      "rooh (133, 39, 159, 169)\n",
      "ro2 (133, 39, 159, 169)\n",
      "ano2 (133, 39, 159, 169)\n",
      "nap (133, 39, 159, 169)\n",
      "xo2 (133, 39, 159, 169)\n",
      "xpar (133, 39, 159, 169)\n",
      "isop (133, 39, 159, 169)\n",
      "isoprd (133, 39, 159, 169)\n",
      "isopp (133, 39, 159, 169)\n",
      "isopn (133, 39, 159, 169)\n",
      "isopo2 (133, 39, 159, 169)\n",
      "api (133, 39, 159, 169)\n",
      "lim (133, 39, 159, 169)\n",
      "dms (133, 39, 159, 169)\n",
      "msa (133, 39, 159, 169)\n",
      "dmso (133, 39, 159, 169)\n",
      "dmso2 (133, 39, 159, 169)\n",
      "ch3so2h (133, 39, 159, 169)\n",
      "ch3sch2oo (133, 39, 159, 169)\n",
      "ch3so2 (133, 39, 159, 169)\n",
      "ch3so3 (133, 39, 159, 169)\n",
      "ch3so2oo (133, 39, 159, 169)\n",
      "ch3so2ch2oo (133, 39, 159, 169)\n",
      "SULFHOX (133, 39, 159, 169)\n"
     ]
    }
   ],
   "source": [
    "for variable in elem:\n",
    "#     data = ncf.variables[variable]\n",
    "#     data = torch.from_numpy(np.array(data))\n",
    "#     print(type(data))\n",
    "    print(variable, ncf.variables[variable].shape)"
   ]
  },
  {
   "cell_type": "code",
   "execution_count": 77,
   "id": "78063428",
   "metadata": {},
   "outputs": [
    {
     "name": "stdout",
     "output_type": "stream",
     "text": [
      "<class 'torch.Tensor'>\n",
      "torch.Size([133, 39, 157, 157])\n",
      "<class 'torch.Tensor'>\n",
      "torch.Size([133, 39, 157, 157])\n",
      "<class 'torch.Tensor'>\n",
      "torch.Size([133, 39, 157, 157])\n",
      "<class 'torch.Tensor'>\n",
      "torch.Size([133, 39, 157, 157])\n",
      "<class 'torch.Tensor'>\n",
      "torch.Size([133, 39, 157, 157])\n",
      "<class 'torch.Tensor'>\n",
      "torch.Size([133, 39, 157, 157])\n",
      "<class 'torch.Tensor'>\n",
      "torch.Size([133, 39, 157, 157])\n",
      "<class 'torch.Tensor'>\n",
      "torch.Size([133, 39, 157, 157])\n",
      "<class 'torch.Tensor'>\n",
      "torch.Size([133, 39, 157, 157])\n",
      "<class 'torch.Tensor'>\n",
      "torch.Size([133, 39, 157, 157])\n"
     ]
    }
   ],
   "source": [
    "num_of_features = 10\n",
    "i = 0\n",
    "\n",
    "transform = torchvision.transforms.Resize((157, 157))\n",
    "\n",
    "torchData = torch.empty(num_of_features, 133, 39, 157, 157)\n",
    "for variable in elem:\n",
    "    data = ncf.variables[variable]\n",
    "    data = torch.from_numpy(np.array(data))\n",
    "    data = data[:,:,1:-1,1:-1]\n",
    "    data=transform(data)\n",
    "    torchData[i] = data\n",
    "    i += 1\n",
    "    print(type(data))\n",
    "    print(data.shape)\n",
    "    if i == num_of_features:\n",
    "        break\n",
    "\n",
    "\n",
    "#     print(variable, ncf.variables[variable].shape)"
   ]
  },
  {
   "cell_type": "code",
   "execution_count": 78,
   "id": "4cd36103",
   "metadata": {},
   "outputs": [
    {
     "name": "stdout",
     "output_type": "stream",
     "text": [
      "torch.Size([10, 133, 39, 157, 157])\n"
     ]
    }
   ],
   "source": [
    "data = torchData\n",
    "print(data.size())"
   ]
  },
  {
   "cell_type": "code",
   "execution_count": 79,
   "id": "c24601b3",
   "metadata": {},
   "outputs": [],
   "source": [
    "data = torch.permute(data, (1, 0, 2,3,4))"
   ]
  },
  {
   "cell_type": "code",
   "execution_count": 80,
   "id": "f43ac4ef",
   "metadata": {},
   "outputs": [
    {
     "name": "stdout",
     "output_type": "stream",
     "text": [
      "torch.Size([133, 10, 39, 157, 157])\n"
     ]
    }
   ],
   "source": [
    "print(data.size())"
   ]
  },
  {
   "cell_type": "code",
   "execution_count": null,
   "id": "f8584005",
   "metadata": {},
   "outputs": [],
   "source": []
  }
 ],
 "metadata": {
  "kernelspec": {
   "display_name": "Python [conda env:.conda-data]",
   "language": "python",
   "name": "conda-env-.conda-data-py"
  },
  "language_info": {
   "codemirror_mode": {
    "name": "ipython",
    "version": 3
   },
   "file_extension": ".py",
   "mimetype": "text/x-python",
   "name": "python",
   "nbconvert_exporter": "python",
   "pygments_lexer": "ipython3",
   "version": "3.9.12"
  }
 },
 "nbformat": 4,
 "nbformat_minor": 5
}
