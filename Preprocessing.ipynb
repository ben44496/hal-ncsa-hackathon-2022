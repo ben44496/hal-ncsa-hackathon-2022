{
 "cells": [
  {
   "cell_type": "code",
   "execution_count": 1,
   "id": "f1ef9174-0d0d-4433-848d-d3b32c238a42",
   "metadata": {},
   "outputs": [
    {
     "name": "stderr",
     "output_type": "stream",
     "text": [
      "/home/mhtang2/.conda/envs/hackathon1.5.1/lib/python3.9/site-packages/tqdm/auto.py:22: TqdmWarning: IProgress not found. Please update jupyter and ipywidgets. See https://ipywidgets.readthedocs.io/en/stable/user_install.html\n",
      "  from .autonotebook import tqdm as notebook_tqdm\n"
     ]
    }
   ],
   "source": [
    "import torch\n",
    "import torch.nn as nn\n",
    "import torchvision\n",
    "from netCDF4 import Dataset\n",
    "import numpy as np\n",
    "import horovod.torch as hvd\n",
    "from data import get_data,get_X_names\n",
    "from unet import *\n",
    "%load_ext autoreload\n",
    "%autoreload 2\n",
    "# from pytorch_model_summary import summary"
   ]
  },
  {
   "cell_type": "code",
   "execution_count": null,
   "id": "e63fba92-e4b1-4941-ae0c-f9a884596d8b",
   "metadata": {},
   "outputs": [],
   "source": [
    "x_names = get_X_names()\n",
    "x_names = x_names[3:8] + x_names[25:30]"
   ]
  },
  {
   "cell_type": "code",
   "execution_count": 34,
   "id": "751e41dd-1a53-4963-994a-fc2d49558dbf",
   "metadata": {},
   "outputs": [
    {
     "name": "stdout",
     "output_type": "stream",
     "text": [
      "Processing data\n",
      "Has 133 samples\n",
      "Writing data\n"
     ]
    }
   ],
   "source": [
    "print(\"Processing data\")\n",
    "X,Y,ymu,ystd = get_data( x_names[:10],['ccn_001','ccn_003'],\"data/training.nc\")\n",
    "print(\"Writing data\")\n",
    "torch.save(X,'data/trainX')\n",
    "torch.save(Y,'data/trainY')\n",
    "torch.save(ymu,'data/train_ymu')\n",
    "torch.save(ystd,'data/train_ystd')"
   ]
  },
  {
   "cell_type": "code",
   "execution_count": 39,
   "id": "0e8ee254-bf11-442a-95e1-b6867857fb00",
   "metadata": {},
   "outputs": [
    {
     "name": "stdout",
     "output_type": "stream",
     "text": [
      "Processing data\n",
      "Has 12 samples\n",
      "Writing data\n"
     ]
    }
   ],
   "source": [
    "print(\"Processing data\")\n",
    "X_test,Y_test,ymu_test,ystd_test = get_data(x_names[:10],['ccn_001','ccn_003'],\"data/evaluation.nc\")\n",
    "print(\"Writing data\")\n",
    "torch.save(X_test,'data/testX')\n",
    "torch.save(Y_test,'data/testY')\n",
    "torch.save(X_test,'data/test_ymu')\n",
    "torch.save(Y_test,'data/test_ystd')"
   ]
  }
 ],
 "metadata": {
  "kernelspec": {
   "display_name": "Python [conda env:.conda-hackathon1.5.1]",
   "language": "python",
   "name": "conda-env-.conda-hackathon1.5.1-py"
  },
  "language_info": {
   "codemirror_mode": {
    "name": "ipython",
    "version": 3
   },
   "file_extension": ".py",
   "mimetype": "text/x-python",
   "name": "python",
   "nbconvert_exporter": "python",
   "pygments_lexer": "ipython3",
   "version": "3.9.12"
  }
 },
 "nbformat": 4,
 "nbformat_minor": 5
}
