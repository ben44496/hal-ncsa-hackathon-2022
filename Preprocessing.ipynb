{
 "cells": [
  {
   "cell_type": "code",
   "execution_count": null,
   "id": "598907b4",
   "metadata": {},
   "outputs": [
    {
     "name": "stderr",
     "output_type": "stream",
     "text": [
      "/home/mhtang2/.conda/envs/hackathon1.5.1/lib/python3.9/site-packages/tqdm/auto.py:22: TqdmWarning: IProgress not found. Please update jupyter and ipywidgets. See https://ipywidgets.readthedocs.io/en/stable/user_install.html\n",
      "  from .autonotebook import tqdm as notebook_tqdm\n"
     ]
    }
   ],
   "source": [
    "import numpy as np\n",
    "from netCDF4 import Dataset\n",
    "import cartopy\n",
    "import matplotlib.pyplot as plt\n",
    "import matplotlib.colors as colors\n",
    "import torch\n",
    "import torchvision\n",
    "import sys\n",
    "import os\n",
    "%load_ext autoreload\n",
    "%autoreload 2\n",
    "from sklearn.decomposition import PCA\n",
    "\n",
    "# Load netcdf file\n",
    "data_dir = 'data/'\n",
    "wrf_filename = '%straining.nc' % data_dir\n",
    "ncf = Dataset(wrf_filename, \"r\", format=\"NETCDF4\")\n",
    "\n",
    "# WRF map projection\n",
    "cart_proj = cartopy.crs.LambertConformal(central_longitude=-97,central_latitude=38)\n",
    "# Data projection\n",
    "data_proj = cartopy.crs.PlateCarree()\n",
    "\n",
    "# Static data\n",
    "lats = ncf.variables['XLAT'][0,:,:]\n",
    "lons = ncf.variables['XLONG'][0,:,:]\n",
    "\n",
    "i_time = -1 # Scecify output time to plot\n",
    "i_z = 0 # Specify level to plot\n",
    "\n",
    "\n",
    "data = ncf.variables['TOT_NUM_CONC'][:]\n",
    "\n",
    "# (nt,nz,ny,nx) = data.shape\n",
    "# print(nt,nz,ny,nx)\n",
    "\n",
    "\n",
    "# x_s = 1\n",
    "# x_e = nx-1\n",
    "# y_s = 1\n",
    "# y_e = ny-1\n",
    "# z_s = 0\n",
    "# z_e = nz\n",
    "# t_s = 0\n",
    "# t_e = nt\n",
    "# print(data[t_s:t_e,z_s:z_e,y_s:y_e,x_s:x_e].shape)\n",
    "\n",
    "# data[t_s:t_e,z_s:z_e,y_s:y_e,x_s:x_e]\n",
    "\n",
    "# X_train = pca.fit_transform(X_train)\n",
    "# X_test = pca.transform(X_test)\n",
    " \n",
    "\n",
    "\n",
    "\n"
   ]
  },
  {
   "cell_type": "code",
   "execution_count": null,
   "id": "6ec943ca",
   "metadata": {},
   "outputs": [
    {
     "name": "stdout",
     "output_type": "stream",
     "text": [
      "['TOT_NUM_CONC', 'TOT_MASS_CONC', 'pmc_SO4', 'pmc_NO3', 'pmc_Cl', 'pmc_NH4', 'pmc_ARO1', 'pmc_ARO2', 'pmc_ALK1', 'pmc_OLE1', 'pmc_API1', 'pmc_API2', 'pmc_LIM1', 'pmc_LIM2', 'pmc_OC', 'pmc_BC', 'pmc_H2O', 'h2so4', 'hno3', 'hcl', 'nh3', 'no', 'no2', 'no3', 'n2o5', 'hono', 'hno4', 'o3', 'o1d', 'O3P', 'oh', 'ho2', 'h2o2', 'co', 'so2', 'ch4', 'c2h6', 'ch3o2', 'ethp', 'hcho', 'ch3oh', 'ANOL', 'ch3ooh', 'ETHOOH', 'ald2', 'hcooh', 'RCOOH', 'c2o3', 'pan', 'aro1', 'aro2', 'alk1', 'ole1', 'api1', 'api2', 'lim1', 'lim2', 'par', 'AONE', 'mgly', 'eth', 'OLET', 'OLEI', 'tol', 'xyl', 'cres', 'to2', 'cro', 'open', 'onit', 'rooh', 'ro2', 'ano2', 'nap', 'xo2', 'xpar', 'isop', 'isoprd', 'isopp', 'isopn', 'isopo2', 'api', 'lim', 'dms', 'msa', 'dmso', 'dmso2', 'ch3so2h', 'ch3sch2oo', 'ch3so2', 'ch3so3', 'ch3so2oo', 'ch3so2ch2oo', 'SULFHOX']\n"
     ]
    }
   ],
   "source": [
    "# import sys\n",
    "# import os\n",
    "# import torch\n",
    "\n",
    "aero = open('data/x_aerosols.txt', 'r')\n",
    "gas = open('data/x_gases.txt', 'r')\n",
    "aero_e = aero.readlines()\n",
    "gas_e = gas.readlines()\n",
    "\n",
    "elem = []\n",
    "\n",
    "for i in aero_e:\n",
    "    elem.append(i.strip())\n",
    "    \n",
    "for i in gas_e:\n",
    "    elem.append(i.strip())\n",
    "\n",
    "print(elem)\n",
    "\n",
    "\n",
    "\n"
   ]
  },
  {
   "cell_type": "code",
   "execution_count": null,
   "id": "a4f394d7",
   "metadata": {},
   "outputs": [
    {
     "name": "stdout",
     "output_type": "stream",
     "text": [
      "ALT (133, 39, 159, 169)\n",
      "ANOL (133, 39, 159, 169)\n",
      "AONE (133, 39, 159, 169)\n",
      "BIN_CENTERS (133, 100)\n",
      "BIN_EDGES (133, 101)\n",
      "CELL_VOL (133, 39, 159, 169)\n",
      "CHI (133, 39, 159, 169)\n",
      "CHI_CCN (133, 39, 159, 169)\n",
      "CHI_CCN_BINNED (133, 39, 159, 169)\n",
      "DN (133, 39)\n",
      "DNW (133, 39)\n",
      "D_ALPHA (133, 39, 159, 169)\n",
      "D_ALPHA_CCN (133, 39, 159, 169)\n",
      "D_ALPHA_CCN_BINNED (133, 39, 159, 169)\n",
      "D_GAMMA (133, 39, 159, 169)\n",
      "D_GAMMA_CCN (133, 39, 159, 169)\n",
      "D_GAMMA_CCN_BINNED (133, 39, 159, 169)\n",
      "ETHOOH (133, 39, 159, 169)\n",
      "MAPFAC_M (133, 159, 169)\n",
      "MAPFAC_MX (133, 159, 169)\n",
      "MAPFAC_MY (133, 159, 169)\n",
      "MAPFAC_U (133, 159, 170)\n",
      "MAPFAC_UX (133, 159, 170)\n",
      "MAPFAC_UY (133, 159, 170)\n",
      "MAPFAC_V (133, 160, 169)\n",
      "MAPFAC_VX (133, 160, 169)\n",
      "MAPFAC_VY (133, 160, 169)\n",
      "MF_VX_INV (133, 160, 169)\n",
      "MU_U (133, 39, 159, 170)\n",
      "MU_V (133, 39, 160, 169)\n",
      "NUM_CONC (133, 39, 159, 169)\n",
      "N_COMPONENTS (133, 39, 159, 169)\n",
      "N_PARTS (133, 39, 159, 169)\n",
      "O3P (133, 39, 159, 169)\n",
      "OLEI (133, 39, 159, 169)\n",
      "OLET (133, 39, 159, 169)\n",
      "P (133, 39, 159, 169)\n",
      "PB (133, 39, 159, 169)\n",
      "PM25 (133, 39, 159, 169)\n",
      "RCOOH (133, 39, 159, 169)\n",
      "REL_HUMID (133, 39, 159, 169)\n",
      "RW (133, 40, 159, 169)\n",
      "SULFHOX (133, 39, 159, 169)\n",
      "T (133, 39, 159, 169)\n",
      "TEMPERATURE (133, 39, 159, 169)\n",
      "TOT_BC_NUM_CONC (133, 39, 159, 169)\n",
      "TOT_BC_NUM_CONC_AGED (133, 39, 159, 169)\n",
      "TOT_COAGULATION_NUM_CONC (133, 39, 159, 169)\n",
      "TOT_HYDROPHOBIC_MASS_CONC (133, 39, 159, 169)\n",
      "TOT_HYDROPHYLIC_MASS_CONC (133, 39, 159, 169)\n",
      "TOT_MASS_CONC (133, 39, 159, 169)\n",
      "TOT_NUM_CONC (133, 39, 159, 169)\n",
      "TOT_NUM_CONC_COAGULATED (133, 39, 159, 169)\n",
      "TOT_WET_NUM_CONC (133, 39, 159, 169)\n",
      "Times (133, 19)\n",
      "U (133, 39, 159, 170)\n",
      "V (133, 39, 160, 169)\n",
      "W (133, 40, 159, 169)\n",
      "WW (133, 40, 159, 169)\n",
      "XLAT (133, 159, 169)\n",
      "XLONG (133, 159, 169)\n",
      "Z (133, 39, 159, 169)\n",
      "ZNU (133, 39)\n",
      "ZNW (133, 40)\n",
      "Z_AT_W (133, 40, 159, 169)\n",
      "ald2 (133, 39, 159, 169)\n",
      "alk1 (133, 39, 159, 169)\n",
      "ano2 (133, 39, 159, 169)\n",
      "api (133, 39, 159, 169)\n",
      "api1 (133, 39, 159, 169)\n",
      "api2 (133, 39, 159, 169)\n",
      "aro1 (133, 39, 159, 169)\n",
      "aro2 (133, 39, 159, 169)\n",
      "c2h6 (133, 39, 159, 169)\n",
      "c2o3 (133, 39, 159, 169)\n",
      "ccn_001 (133, 39, 159, 169)\n",
      "ccn_003 (133, 39, 159, 169)\n",
      "ccn_006 (133, 39, 159, 169)\n",
      "ccn_010 (133, 39, 159, 169)\n",
      "ccn_average_001 (133, 39, 159, 169)\n",
      "ccn_average_003 (133, 39, 159, 169)\n",
      "ccn_average_006 (133, 39, 159, 169)\n",
      "ccn_average_010 (133, 39, 159, 169)\n",
      "ch3o2 (133, 39, 159, 169)\n",
      "ch3oh (133, 39, 159, 169)\n",
      "ch3ooh (133, 39, 159, 169)\n",
      "ch3sch2oo (133, 39, 159, 169)\n",
      "ch3so2 (133, 39, 159, 169)\n",
      "ch3so2ch2oo (133, 39, 159, 169)\n",
      "ch3so2h (133, 39, 159, 169)\n",
      "ch3so2oo (133, 39, 159, 169)\n",
      "ch3so3 (133, 39, 159, 169)\n",
      "ch4 (133, 39, 159, 169)\n",
      "co (133, 39, 159, 169)\n",
      "cres (133, 39, 159, 169)\n",
      "cro (133, 39, 159, 169)\n",
      "dms (133, 39, 159, 169)\n",
      "dmso (133, 39, 159, 169)\n",
      "dmso2 (133, 39, 159, 169)\n",
      "eth (133, 39, 159, 169)\n",
      "ethp (133, 39, 159, 169)\n",
      "h2o2 (133, 39, 159, 169)\n",
      "h2so4 (133, 39, 159, 169)\n",
      "hcho (133, 39, 159, 169)\n",
      "hcl (133, 39, 159, 169)\n",
      "hcooh (133, 39, 159, 169)\n",
      "hno3 (133, 39, 159, 169)\n",
      "hno4 (133, 39, 159, 169)\n",
      "ho2 (133, 39, 159, 169)\n",
      "hono (133, 39, 159, 169)\n",
      "isop (133, 39, 159, 169)\n",
      "isopn (133, 39, 159, 169)\n",
      "isopo2 (133, 39, 159, 169)\n",
      "isopp (133, 39, 159, 169)\n",
      "isoprd (133, 39, 159, 169)\n",
      "lim (133, 39, 159, 169)\n",
      "lim1 (133, 39, 159, 169)\n",
      "lim2 (133, 39, 159, 169)\n",
      "mass_a001 (133, 39, 159, 169)\n",
      "mass_a002 (133, 39, 159, 169)\n",
      "mass_a003 (133, 39, 159, 169)\n",
      "mass_a004 (133, 39, 159, 169)\n",
      "mass_a005 (133, 39, 159, 169)\n",
      "mass_a006 (133, 39, 159, 169)\n",
      "mass_a007 (133, 39, 159, 169)\n",
      "mass_a008 (133, 39, 159, 169)\n",
      "mass_a009 (133, 39, 159, 169)\n",
      "mass_a010 (133, 39, 159, 169)\n",
      "mass_a011 (133, 39, 159, 169)\n",
      "mass_a012 (133, 39, 159, 169)\n",
      "mass_a013 (133, 39, 159, 169)\n",
      "mass_a014 (133, 39, 159, 169)\n",
      "mass_a015 (133, 39, 159, 169)\n",
      "mass_a016 (133, 39, 159, 169)\n",
      "mass_a017 (133, 39, 159, 169)\n",
      "mass_a018 (133, 39, 159, 169)\n",
      "mass_a019 (133, 39, 159, 169)\n",
      "mass_a020 (133, 39, 159, 169)\n",
      "mass_a021 (133, 39, 159, 169)\n",
      "mass_a022 (133, 39, 159, 169)\n",
      "mass_a023 (133, 39, 159, 169)\n",
      "mass_a024 (133, 39, 159, 169)\n",
      "mass_a025 (133, 39, 159, 169)\n",
      "mass_a026 (133, 39, 159, 169)\n",
      "mass_a027 (133, 39, 159, 169)\n",
      "mass_a028 (133, 39, 159, 169)\n",
      "mass_a029 (133, 39, 159, 169)\n",
      "mass_a030 (133, 39, 159, 169)\n",
      "mass_a031 (133, 39, 159, 169)\n",
      "mass_a032 (133, 39, 159, 169)\n",
      "mass_a033 (133, 39, 159, 169)\n",
      "mass_a034 (133, 39, 159, 169)\n",
      "mass_a035 (133, 39, 159, 169)\n",
      "mass_a036 (133, 39, 159, 169)\n",
      "mass_a037 (133, 39, 159, 169)\n",
      "mass_a038 (133, 39, 159, 169)\n",
      "mass_a039 (133, 39, 159, 169)\n",
      "mass_a040 (133, 39, 159, 169)\n",
      "mass_a041 (133, 39, 159, 169)\n",
      "mass_a042 (133, 39, 159, 169)\n",
      "mass_a043 (133, 39, 159, 169)\n",
      "mass_a044 (133, 39, 159, 169)\n",
      "mass_a045 (133, 39, 159, 169)\n",
      "mass_a046 (133, 39, 159, 169)\n",
      "mass_a047 (133, 39, 159, 169)\n",
      "mass_a048 (133, 39, 159, 169)\n",
      "mass_a049 (133, 39, 159, 169)\n",
      "mass_a050 (133, 39, 159, 169)\n",
      "mass_a051 (133, 39, 159, 169)\n",
      "mass_a052 (133, 39, 159, 169)\n",
      "mass_a053 (133, 39, 159, 169)\n",
      "mass_a054 (133, 39, 159, 169)\n",
      "mass_a055 (133, 39, 159, 169)\n",
      "mass_a056 (133, 39, 159, 169)\n",
      "mass_a057 (133, 39, 159, 169)\n",
      "mass_a058 (133, 39, 159, 169)\n",
      "mass_a059 (133, 39, 159, 169)\n",
      "mass_a060 (133, 39, 159, 169)\n",
      "mass_a061 (133, 39, 159, 169)\n",
      "mass_a062 (133, 39, 159, 169)\n",
      "mass_a063 (133, 39, 159, 169)\n",
      "mass_a064 (133, 39, 159, 169)\n",
      "mass_a065 (133, 39, 159, 169)\n",
      "mass_a066 (133, 39, 159, 169)\n",
      "mass_a067 (133, 39, 159, 169)\n",
      "mass_a068 (133, 39, 159, 169)\n",
      "mass_a069 (133, 39, 159, 169)\n",
      "mass_a070 (133, 39, 159, 169)\n",
      "mass_a071 (133, 39, 159, 169)\n",
      "mass_a072 (133, 39, 159, 169)\n",
      "mass_a073 (133, 39, 159, 169)\n",
      "mass_a074 (133, 39, 159, 169)\n",
      "mass_a075 (133, 39, 159, 169)\n",
      "mass_a076 (133, 39, 159, 169)\n",
      "mass_a077 (133, 39, 159, 169)\n",
      "mass_a078 (133, 39, 159, 169)\n",
      "mass_a079 (133, 39, 159, 169)\n",
      "mass_a080 (133, 39, 159, 169)\n",
      "mass_a081 (133, 39, 159, 169)\n",
      "mass_a082 (133, 39, 159, 169)\n",
      "mass_a083 (133, 39, 159, 169)\n",
      "mass_a084 (133, 39, 159, 169)\n",
      "mass_a085 (133, 39, 159, 169)\n",
      "mass_a086 (133, 39, 159, 169)\n",
      "mass_a087 (133, 39, 159, 169)\n",
      "mass_a088 (133, 39, 159, 169)\n",
      "mass_a089 (133, 39, 159, 169)\n",
      "mass_a090 (133, 39, 159, 169)\n",
      "mass_a091 (133, 39, 159, 169)\n",
      "mass_a092 (133, 39, 159, 169)\n",
      "mass_a093 (133, 39, 159, 169)\n",
      "mass_a094 (133, 39, 159, 169)\n",
      "mass_a095 (133, 39, 159, 169)\n",
      "mass_a096 (133, 39, 159, 169)\n",
      "mass_a097 (133, 39, 159, 169)\n",
      "mass_a098 (133, 39, 159, 169)\n",
      "mass_a099 (133, 39, 159, 169)\n",
      "mass_a100 (133, 39, 159, 169)\n",
      "mgly (133, 39, 159, 169)\n",
      "msa (133, 39, 159, 169)\n",
      "n2o5 (133, 39, 159, 169)\n",
      "nap (133, 39, 159, 169)\n",
      "nh3 (133, 39, 159, 169)\n",
      "no (133, 39, 159, 169)\n",
      "no2 (133, 39, 159, 169)\n",
      "no3 (133, 39, 159, 169)\n",
      "num_a001 (133, 39, 159, 169)\n",
      "num_a002 (133, 39, 159, 169)\n",
      "num_a003 (133, 39, 159, 169)\n",
      "num_a004 (133, 39, 159, 169)\n",
      "num_a005 (133, 39, 159, 169)\n",
      "num_a006 (133, 39, 159, 169)\n",
      "num_a007 (133, 39, 159, 169)\n",
      "num_a008 (133, 39, 159, 169)\n",
      "num_a009 (133, 39, 159, 169)\n",
      "num_a010 (133, 39, 159, 169)\n",
      "num_a011 (133, 39, 159, 169)\n",
      "num_a012 (133, 39, 159, 169)\n",
      "num_a013 (133, 39, 159, 169)\n",
      "num_a014 (133, 39, 159, 169)\n",
      "num_a015 (133, 39, 159, 169)\n",
      "num_a016 (133, 39, 159, 169)\n",
      "num_a017 (133, 39, 159, 169)\n",
      "num_a018 (133, 39, 159, 169)\n",
      "num_a019 (133, 39, 159, 169)\n",
      "num_a020 (133, 39, 159, 169)\n",
      "num_a021 (133, 39, 159, 169)\n",
      "num_a022 (133, 39, 159, 169)\n",
      "num_a023 (133, 39, 159, 169)\n",
      "num_a024 (133, 39, 159, 169)\n",
      "num_a025 (133, 39, 159, 169)\n",
      "num_a026 (133, 39, 159, 169)\n",
      "num_a027 (133, 39, 159, 169)\n",
      "num_a028 (133, 39, 159, 169)\n",
      "num_a029 (133, 39, 159, 169)\n",
      "num_a030 (133, 39, 159, 169)\n",
      "num_a031 (133, 39, 159, 169)\n",
      "num_a032 (133, 39, 159, 169)\n",
      "num_a033 (133, 39, 159, 169)\n",
      "num_a034 (133, 39, 159, 169)\n",
      "num_a035 (133, 39, 159, 169)\n",
      "num_a036 (133, 39, 159, 169)\n",
      "num_a037 (133, 39, 159, 169)\n",
      "num_a038 (133, 39, 159, 169)\n",
      "num_a039 (133, 39, 159, 169)\n",
      "num_a040 (133, 39, 159, 169)\n",
      "num_a041 (133, 39, 159, 169)\n",
      "num_a042 (133, 39, 159, 169)\n",
      "num_a043 (133, 39, 159, 169)\n",
      "num_a044 (133, 39, 159, 169)\n",
      "num_a045 (133, 39, 159, 169)\n",
      "num_a046 (133, 39, 159, 169)\n",
      "num_a047 (133, 39, 159, 169)\n",
      "num_a048 (133, 39, 159, 169)\n",
      "num_a049 (133, 39, 159, 169)\n",
      "num_a050 (133, 39, 159, 169)\n",
      "num_a051 (133, 39, 159, 169)\n",
      "num_a052 (133, 39, 159, 169)\n",
      "num_a053 (133, 39, 159, 169)\n",
      "num_a054 (133, 39, 159, 169)\n",
      "num_a055 (133, 39, 159, 169)\n",
      "num_a056 (133, 39, 159, 169)\n",
      "num_a057 (133, 39, 159, 169)\n",
      "num_a058 (133, 39, 159, 169)\n",
      "num_a059 (133, 39, 159, 169)\n",
      "num_a060 (133, 39, 159, 169)\n",
      "num_a061 (133, 39, 159, 169)\n",
      "num_a062 (133, 39, 159, 169)\n",
      "num_a063 (133, 39, 159, 169)\n",
      "num_a064 (133, 39, 159, 169)\n",
      "num_a065 (133, 39, 159, 169)\n",
      "num_a066 (133, 39, 159, 169)\n",
      "num_a067 (133, 39, 159, 169)\n",
      "num_a068 (133, 39, 159, 169)\n",
      "num_a069 (133, 39, 159, 169)\n",
      "num_a070 (133, 39, 159, 169)\n",
      "num_a071 (133, 39, 159, 169)\n",
      "num_a072 (133, 39, 159, 169)\n",
      "num_a073 (133, 39, 159, 169)\n",
      "num_a074 (133, 39, 159, 169)\n",
      "num_a075 (133, 39, 159, 169)\n",
      "num_a076 (133, 39, 159, 169)\n",
      "num_a077 (133, 39, 159, 169)\n",
      "num_a078 (133, 39, 159, 169)\n",
      "num_a079 (133, 39, 159, 169)\n",
      "num_a080 (133, 39, 159, 169)\n",
      "num_a081 (133, 39, 159, 169)\n",
      "num_a082 (133, 39, 159, 169)\n",
      "num_a083 (133, 39, 159, 169)\n",
      "num_a084 (133, 39, 159, 169)\n",
      "num_a085 (133, 39, 159, 169)\n",
      "num_a086 (133, 39, 159, 169)\n",
      "num_a087 (133, 39, 159, 169)\n",
      "num_a088 (133, 39, 159, 169)\n",
      "num_a089 (133, 39, 159, 169)\n",
      "num_a090 (133, 39, 159, 169)\n",
      "num_a091 (133, 39, 159, 169)\n",
      "num_a092 (133, 39, 159, 169)\n",
      "num_a093 (133, 39, 159, 169)\n",
      "num_a094 (133, 39, 159, 169)\n",
      "num_a095 (133, 39, 159, 169)\n",
      "num_a096 (133, 39, 159, 169)\n",
      "num_a097 (133, 39, 159, 169)\n",
      "num_a098 (133, 39, 159, 169)\n",
      "num_a099 (133, 39, 159, 169)\n",
      "num_a100 (133, 39, 159, 169)\n",
      "o1d (133, 39, 159, 169)\n",
      "o3 (133, 39, 159, 169)\n",
      "oh (133, 39, 159, 169)\n",
      "ole1 (133, 39, 159, 169)\n",
      "onit (133, 39, 159, 169)\n",
      "open (133, 39, 159, 169)\n",
      "pan (133, 39, 159, 169)\n",
      "par (133, 39, 159, 169)\n",
      "pmc_ALK1 (133, 39, 159, 169)\n",
      "pmc_API1 (133, 39, 159, 169)\n",
      "pmc_API2 (133, 39, 159, 169)\n",
      "pmc_ARO1 (133, 39, 159, 169)\n",
      "pmc_ARO2 (133, 39, 159, 169)\n",
      "pmc_BC (133, 39, 159, 169)\n",
      "pmc_CO3 (133, 39, 159, 169)\n",
      "pmc_Ca (133, 39, 159, 169)\n",
      "pmc_Cl (133, 39, 159, 169)\n",
      "pmc_H2O (133, 39, 159, 169)\n",
      "pmc_LIM1 (133, 39, 159, 169)\n",
      "pmc_LIM2 (133, 39, 159, 169)\n",
      "pmc_MSA (133, 39, 159, 169)\n",
      "pmc_NH4 (133, 39, 159, 169)\n",
      "pmc_NO3 (133, 39, 159, 169)\n",
      "pmc_Na (133, 39, 159, 169)\n",
      "pmc_OC (133, 39, 159, 169)\n",
      "pmc_OIN (133, 39, 159, 169)\n",
      "pmc_OLE1 (133, 39, 159, 169)\n",
      "pmc_SO4 (133, 39, 159, 169)\n",
      "ro2 (133, 39, 159, 169)\n",
      "rooh (133, 39, 159, 169)\n",
      "so2 (133, 39, 159, 169)\n",
      "to2 (133, 39, 159, 169)\n",
      "tol (133, 39, 159, 169)\n",
      "xo2 (133, 39, 159, 169)\n",
      "xpar (133, 39, 159, 169)\n",
      "xyl (133, 39, 159, 169)\n"
     ]
    }
   ],
   "source": [
    "for variable in ncf.variables:\n",
    "#     data = ncf.variables[variable]\n",
    "#     data = torch.from_numpy(np.array(data))\n",
    "#     print(type(data))\n",
    "    print(variable, ncf.variables[variable].shape)"
   ]
  },
  {
   "cell_type": "code",
   "execution_count": null,
   "id": "78063428",
   "metadata": {},
   "outputs": [
    {
     "ename": "NameError",
     "evalue": "name 'num_of_features' is not defined",
     "output_type": "error",
     "traceback": [
      "\u001b[0;31m---------------------------------------------------------------------------\u001b[0m",
      "\u001b[0;31mNameError\u001b[0m                                 Traceback (most recent call last)",
      "\u001b[0;32m/tmp/ipykernel_3929230/2981762541.py\u001b[0m in \u001b[0;36m<cell line: 4>\u001b[0;34m()\u001b[0m\n\u001b[1;32m      2\u001b[0m \u001b[0mresizer\u001b[0m \u001b[0;34m=\u001b[0m \u001b[0mtorchvision\u001b[0m\u001b[0;34m.\u001b[0m\u001b[0mtransforms\u001b[0m\u001b[0;34m.\u001b[0m\u001b[0mResize\u001b[0m\u001b[0;34m(\u001b[0m\u001b[0;34m(\u001b[0m\u001b[0;36m157\u001b[0m\u001b[0;34m,\u001b[0m \u001b[0;36m157\u001b[0m\u001b[0;34m)\u001b[0m\u001b[0;34m)\u001b[0m\u001b[0;34m\u001b[0m\u001b[0;34m\u001b[0m\u001b[0m\n\u001b[1;32m      3\u001b[0m \u001b[0;34m\u001b[0m\u001b[0m\n\u001b[0;32m----> 4\u001b[0;31m \u001b[0mtorchData\u001b[0m \u001b[0;34m=\u001b[0m \u001b[0mtorch\u001b[0m\u001b[0;34m.\u001b[0m\u001b[0mempty\u001b[0m\u001b[0;34m(\u001b[0m\u001b[0mnum_of_features\u001b[0m\u001b[0;34m,\u001b[0m \u001b[0;36m133\u001b[0m\u001b[0;34m,\u001b[0m \u001b[0;36m39\u001b[0m\u001b[0;34m,\u001b[0m \u001b[0;36m157\u001b[0m\u001b[0;34m,\u001b[0m \u001b[0;36m157\u001b[0m\u001b[0;34m)\u001b[0m\u001b[0;34m\u001b[0m\u001b[0;34m\u001b[0m\u001b[0m\n\u001b[0m\u001b[1;32m      5\u001b[0m \u001b[0;32mfor\u001b[0m \u001b[0mi\u001b[0m \u001b[0;32min\u001b[0m \u001b[0mrange\u001b[0m\u001b[0;34m(\u001b[0m\u001b[0mnum_features\u001b[0m\u001b[0;34m)\u001b[0m\u001b[0;34m:\u001b[0m\u001b[0;34m\u001b[0m\u001b[0;34m\u001b[0m\u001b[0m\n\u001b[1;32m      6\u001b[0m     \u001b[0mvariable\u001b[0m \u001b[0;34m=\u001b[0m \u001b[0melem\u001b[0m\u001b[0;34m[\u001b[0m\u001b[0mi\u001b[0m\u001b[0;34m]\u001b[0m\u001b[0;34m\u001b[0m\u001b[0;34m\u001b[0m\u001b[0m\n",
      "\u001b[0;31mNameError\u001b[0m: name 'num_of_features' is not defined"
     ]
    }
   ],
   "source": [
    "num_features = 10\n",
    "resizer = torchvision.transforms.Resize((157, 157))\n",
    "\n",
    "torchData = torch.empty(num_of_features, 133, 39, 157, 157)\n",
    "for i in range(num_features):\n",
    "    variable = elem[i]\n",
    "    data = ncf.variables[variable]\n",
    "    data = torch.from_numpy(np.array(data))\n",
    "    # Crop boundaries\n",
    "    data = data[:,:,1:-1,1:-1]\n",
    "    # Resize and Standardize \n",
    "    data = resizer(data)\n",
    "    data = (data - data.mean(axis=0))/data.std(axis=0)\n",
    "    torchData[i] = data"
   ]
  },
  {
   "cell_type": "code",
   "execution_count": 6,
   "id": "4cd36103",
   "metadata": {},
   "outputs": [],
   "source": [
    "data = torchData\n",
    "print(data.size())"
   ]
  },
  {
   "cell_type": "code",
   "execution_count": 7,
   "id": "c24601b3",
   "metadata": {},
   "outputs": [],
   "source": [
    "data = torch.permute(data, (1, 0, 2,3,4))"
   ]
  },
  {
   "cell_type": "code",
   "execution_count": 8,
   "id": "f43ac4ef",
   "metadata": {},
   "outputs": [],
   "source": [
    "print(data.size())"
   ]
  },
  {
   "cell_type": "code",
   "execution_count": null,
   "id": "f8584005",
   "metadata": {},
   "outputs": [],
   "source": [
    "print(data.mean())"
   ]
  },
  {
   "cell_type": "code",
   "execution_count": null,
   "id": "8e9c3940",
   "metadata": {},
   "outputs": [],
   "source": [
    "print(data.std())"
   ]
  },
  {
   "cell_type": "code",
   "execution_count": null,
   "id": "8df8b655",
   "metadata": {},
   "outputs": [],
   "source": [
    "for time in data:\n",
    "    for var in time:\n",
    "        print(var)"
   ]
  },
  {
   "cell_type": "code",
   "execution_count": null,
   "id": "33bb0930",
   "metadata": {},
   "outputs": [],
   "source": [
    "for time in data:\n",
    "    for var in time:\n",
    "        new = (var - var.mean()) / var.std()\n",
    "        print(new)"
   ]
  },
  {
   "cell_type": "code",
   "execution_count": null,
   "id": "30011adb",
   "metadata": {},
   "outputs": [],
   "source": [
    "new_transform = torchvision.transforms.Normalize(data.mean(), data.std())\n",
    "new_data = new_transform(data)"
   ]
  },
  {
   "cell_type": "code",
   "execution_count": null,
   "id": "669e7e97",
   "metadata": {},
   "outputs": [],
   "source": [
    "print(new_data)"
   ]
  },
  {
   "cell_type": "markdown",
   "id": "0ac34379-1926-4449-92e4-73ddc72b84b5",
   "metadata": {
    "tags": []
   },
   "source": [
    "### DEMO"
   ]
  },
  {
   "cell_type": "code",
   "execution_count": 5,
   "id": "f4b9a9d0",
   "metadata": {},
   "outputs": [],
   "source": [
    "from data import get_data,get_X_names"
   ]
  },
  {
   "cell_type": "code",
   "execution_count": 9,
   "id": "21419a79-647b-43ff-8bef-cc6a1b08bfbf",
   "metadata": {},
   "outputs": [
    {
     "data": {
      "text/plain": [
       "['pmc_NO3',\n",
       " 'pmc_Cl',\n",
       " 'pmc_NH4',\n",
       " 'pmc_ARO1',\n",
       " 'pmc_ARO2',\n",
       " 'hono',\n",
       " 'hno4',\n",
       " 'o3',\n",
       " 'o1d',\n",
       " 'O3P']"
      ]
     },
     "execution_count": 9,
     "metadata": {},
     "output_type": "execute_result"
    }
   ],
   "source": [
    "x_names = get_X_names()\n",
    "x_names = x_names[3:8] + x_names[25:30]\n",
    "x_names"
   ]
  },
  {
   "cell_type": "code",
   "execution_count": 13,
   "id": "23dc6f14-7b85-4954-87bc-42d4586fcde5",
   "metadata": {},
   "outputs": [],
   "source": [
    "X,Y,ymu,ystd = get_data(x_names[:10],['ccn_001','ccn_003'])"
   ]
  },
  {
   "cell_type": "code",
   "execution_count": 11,
   "id": "297238e1-df89-49a8-99bf-8b617780240a",
   "metadata": {},
   "outputs": [
    {
     "data": {
      "text/plain": [
       "torch.Size([133, 10, 39, 157, 157])"
      ]
     },
     "execution_count": 11,
     "metadata": {},
     "output_type": "execute_result"
    }
   ],
   "source": [
    "X.shape"
   ]
  },
  {
   "cell_type": "code",
   "execution_count": 12,
   "id": "c1112d08-8b6a-4cff-bbd4-51e313206dee",
   "metadata": {},
   "outputs": [
    {
     "data": {
      "text/plain": [
       "torch.Size([133, 2, 39, 157, 157])"
      ]
     },
     "execution_count": 12,
     "metadata": {},
     "output_type": "execute_result"
    }
   ],
   "source": [
    "Y.shape"
   ]
  },
  {
   "cell_type": "code",
   "execution_count": 14,
   "id": "a0f018ac-fb98-4c49-b4f5-62d530acefb8",
   "metadata": {},
   "outputs": [
    {
     "data": {
      "text/plain": [
       "torch.Size([2, 39, 157, 157])"
      ]
     },
     "execution_count": 14,
     "metadata": {},
     "output_type": "execute_result"
    }
   ],
   "source": [
    "ymu.shape"
   ]
  },
  {
   "cell_type": "code",
   "execution_count": 15,
   "id": "b4bbb534-8d3a-4880-a85f-4e713c2e7fff",
   "metadata": {},
   "outputs": [
    {
     "data": {
      "text/plain": [
       "torch.Size([2, 39, 157, 157])"
      ]
     },
     "execution_count": 15,
     "metadata": {},
     "output_type": "execute_result"
    }
   ],
   "source": [
    "ystd.shape"
   ]
  },
  {
   "cell_type": "code",
   "execution_count": null,
   "id": "91c9ea41-8bfe-4d92-9881-b3811a50a620",
   "metadata": {},
   "outputs": [],
   "source": []
  }
 ],
 "metadata": {
  "kernelspec": {
   "display_name": "Python [conda env:.conda-hackathon1.5.1]",
   "language": "python",
   "name": "conda-env-.conda-hackathon1.5.1-py"
  },
  "language_info": {
   "codemirror_mode": {
    "name": "ipython",
    "version": 3
   },
   "file_extension": ".py",
   "mimetype": "text/x-python",
   "name": "python",
   "nbconvert_exporter": "python",
   "pygments_lexer": "ipython3",
   "version": "3.9.12"
  }
 },
 "nbformat": 4,
 "nbformat_minor": 5
}
